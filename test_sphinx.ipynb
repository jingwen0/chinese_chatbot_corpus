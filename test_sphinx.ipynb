{
  "nbformat": 4,
  "nbformat_minor": 0,
  "metadata": {
    "colab": {
      "name": "test_sphinx.ipynb",
      "provenance": [],
      "collapsed_sections": [],
      "include_colab_link": true
    },
    "kernelspec": {
      "display_name": "Python 3",
      "name": "python3"
    },
    "language_info": {
      "name": "python"
    }
  },
  "cells": [
    {
      "cell_type": "markdown",
      "metadata": {
        "id": "view-in-github",
        "colab_type": "text"
      },
      "source": [
        "<a href=\"https://colab.research.google.com/github/jingwen0/chinese_chatbot_corpus/blob/master/test_sphinx.ipynb\" target=\"_parent\"><img src=\"https://colab.research.google.com/assets/colab-badge.svg\" alt=\"Open In Colab\"/></a>"
      ]
    },
    {
      "cell_type": "markdown",
      "metadata": {
        "id": "mSLfTi6HRw2c"
      },
      "source": [
        "# Générer documentation Sphinx sur Colab\n",
        "- Les commandes shell sont précédées de `!`\n",
        "- Copier vos fichiers de code à documenter dans un dossier sur l'espace Colab ou encore plus simple, sur le Google Drive, qui sera ensuite monté sur l'espace Colab (voir code ci-dessous)\n",
        "- La documentation sera générée dans un dossier `html` à la racine du space Colab"
      ]
    },
    {
      "cell_type": "markdown",
      "metadata": {
        "id": "yStkItzAQiGS"
      },
      "source": [
        "# Installer Sphinx"
      ]
    },
    {
      "cell_type": "markdown",
      "metadata": {
        "id": "QYOj6j3LSCG1"
      },
      "source": [
        ""
      ]
    },
    {
      "cell_type": "code",
      "metadata": {
        "colab": {
          "base_uri": "https://localhost:8080/"
        },
        "id": "7aqFkTO3GVsb",
        "outputId": "e5a6abcd-736d-4791-8467-86936106245b"
      },
      "source": [
        "pip install sphinx"
      ],
      "execution_count": null,
      "outputs": [
        {
          "output_type": "stream",
          "name": "stdout",
          "text": [
            "Requirement already satisfied: sphinx in /usr/local/lib/python3.7/dist-packages (1.8.5)\n",
            "Requirement already satisfied: imagesize in /usr/local/lib/python3.7/dist-packages (from sphinx) (1.2.0)\n",
            "Requirement already satisfied: docutils>=0.11 in /usr/local/lib/python3.7/dist-packages (from sphinx) (0.17.1)\n",
            "Requirement already satisfied: requests>=2.0.0 in /usr/local/lib/python3.7/dist-packages (from sphinx) (2.23.0)\n",
            "Requirement already satisfied: Pygments>=2.0 in /usr/local/lib/python3.7/dist-packages (from sphinx) (2.6.1)\n",
            "Requirement already satisfied: packaging in /usr/local/lib/python3.7/dist-packages (from sphinx) (21.0)\n",
            "Requirement already satisfied: sphinxcontrib-websupport in /usr/local/lib/python3.7/dist-packages (from sphinx) (1.2.4)\n",
            "Requirement already satisfied: six>=1.5 in /usr/local/lib/python3.7/dist-packages (from sphinx) (1.15.0)\n",
            "Requirement already satisfied: babel!=2.0,>=1.3 in /usr/local/lib/python3.7/dist-packages (from sphinx) (2.9.1)\n",
            "Requirement already satisfied: alabaster<0.8,>=0.7 in /usr/local/lib/python3.7/dist-packages (from sphinx) (0.7.12)\n",
            "Requirement already satisfied: Jinja2>=2.3 in /usr/local/lib/python3.7/dist-packages (from sphinx) (2.11.3)\n",
            "Requirement already satisfied: snowballstemmer>=1.1 in /usr/local/lib/python3.7/dist-packages (from sphinx) (2.1.0)\n",
            "Requirement already satisfied: setuptools in /usr/local/lib/python3.7/dist-packages (from sphinx) (57.4.0)\n",
            "Requirement already satisfied: pytz>=2015.7 in /usr/local/lib/python3.7/dist-packages (from babel!=2.0,>=1.3->sphinx) (2018.9)\n",
            "Requirement already satisfied: MarkupSafe>=0.23 in /usr/local/lib/python3.7/dist-packages (from Jinja2>=2.3->sphinx) (2.0.1)\n",
            "Requirement already satisfied: urllib3!=1.25.0,!=1.25.1,<1.26,>=1.21.1 in /usr/local/lib/python3.7/dist-packages (from requests>=2.0.0->sphinx) (1.24.3)\n",
            "Requirement already satisfied: chardet<4,>=3.0.2 in /usr/local/lib/python3.7/dist-packages (from requests>=2.0.0->sphinx) (3.0.4)\n",
            "Requirement already satisfied: idna<3,>=2.5 in /usr/local/lib/python3.7/dist-packages (from requests>=2.0.0->sphinx) (2.10)\n",
            "Requirement already satisfied: certifi>=2017.4.17 in /usr/local/lib/python3.7/dist-packages (from requests>=2.0.0->sphinx) (2021.5.30)\n",
            "Requirement already satisfied: pyparsing>=2.0.2 in /usr/local/lib/python3.7/dist-packages (from packaging->sphinx) (2.4.7)\n",
            "Requirement already satisfied: sphinxcontrib-serializinghtml in /usr/local/lib/python3.7/dist-packages (from sphinxcontrib-websupport->sphinx) (1.1.5)\n"
          ]
        }
      ]
    },
    {
      "cell_type": "code",
      "metadata": {
        "colab": {
          "base_uri": "https://localhost:8080/"
        },
        "id": "MZRGqQ4b87uj",
        "outputId": "3fcca061-1b82-4571-dd2c-95beaaddc23e"
      },
      "source": [
        "!pip install sphinxcontrib-napoleon"
      ],
      "execution_count": null,
      "outputs": [
        {
          "output_type": "stream",
          "name": "stdout",
          "text": [
            "Requirement already satisfied: sphinxcontrib-napoleon in /usr/local/lib/python3.7/dist-packages (0.7)\n",
            "Requirement already satisfied: pockets>=0.3 in /usr/local/lib/python3.7/dist-packages (from sphinxcontrib-napoleon) (0.9.1)\n",
            "Requirement already satisfied: six>=1.5.2 in /usr/local/lib/python3.7/dist-packages (from sphinxcontrib-napoleon) (1.15.0)\n"
          ]
        }
      ]
    },
    {
      "cell_type": "markdown",
      "metadata": {
        "id": "UFfLcQXXQnEq"
      },
      "source": [
        "# Monter votre Drive"
      ]
    },
    {
      "cell_type": "code",
      "metadata": {
        "colab": {
          "base_uri": "https://localhost:8080/"
        },
        "id": "KjhWCioZI6qN",
        "outputId": "252cd68d-9758-4f98-d60d-170bccc30ece"
      },
      "source": [
        "from google.colab import drive\n",
        "drive.mount('/content/drive')"
      ],
      "execution_count": null,
      "outputs": [
        {
          "output_type": "stream",
          "name": "stdout",
          "text": [
            "Drive already mounted at /content/drive; to attempt to forcibly remount, call drive.mount(\"/content/drive\", force_remount=True).\n"
          ]
        }
      ]
    },
    {
      "cell_type": "markdown",
      "metadata": {
        "id": "Tzu7Ej1CKALK"
      },
      "source": [
        "Vos fichiers auront été téléversés sur votre Drive (dans mon cas l'emplacement était celui que l'on voit ci-dessous (/`_c/stra/cours/cours/ges/2021/cours_04_documentation/fichiers_2021_colab`), qu'il faudra changer par votre chemin\n",
        "\n",
        "À noter que le chemin vers vos fichier sera préfixé de `/content/drive` puisque vous avez monté le drive sur `/content/drive`"
      ]
    },
    {
      "cell_type": "code",
      "metadata": {
        "colab": {
          "base_uri": "https://localhost:8080/"
        },
        "id": "P1zLPnrRJash",
        "outputId": "2a086843-64a3-499a-d4d1-ef6b1584652d"
      },
      "source": [
        "!ls '/content/drive/My Drive/_c/stra/cours/cours/ges/2021/cours_04_documentation/fichiers_2021_colab'"
      ],
      "execution_count": null,
      "outputs": [
        {
          "output_type": "stream",
          "name": "stdout",
          "text": [
            "chiffres_lettres.py  images  overlaps.py  showcase_restructured.py\n"
          ]
        }
      ]
    },
    {
      "cell_type": "markdown",
      "metadata": {
        "id": "kdEq99ggQvHf"
      },
      "source": [
        "# Copier les fichiers vers un nouveau dossier dans `/content`"
      ]
    },
    {
      "cell_type": "markdown",
      "metadata": {
        "id": "6I5J9CB2Ks99"
      },
      "source": [
        "Il faudra changer le chemin selon où les fichiers se trouvent dans votre drive (le chemin ci dessous correspond à l'emplacement sur mon Drive)"
      ]
    },
    {
      "cell_type": "code",
      "metadata": {
        "id": "uitxaE86J2Yo"
      },
      "source": [
        "!cp -r '/content/drive/My Drive/_c/stra/cours/cours/ges/2021/cours_04_documentation/fichiers_2021_colab' /content/fichiers_2021"
      ],
      "execution_count": null,
      "outputs": []
    },
    {
      "cell_type": "markdown",
      "metadata": {
        "id": "rQmo-4tRQ118"
      },
      "source": [
        "# Exécution de Sphinx"
      ]
    },
    {
      "cell_type": "markdown",
      "metadata": {
        "id": "6JlUzhU_RHBy"
      },
      "source": [
        "## Configuration du projet"
      ]
    },
    {
      "cell_type": "code",
      "metadata": {
        "colab": {
          "base_uri": "https://localhost:8080/"
        },
        "id": "SXLW1MsSJ_Zq",
        "outputId": "e0fe83dc-8ee3-4aa4-8bc7-e3d573bd107a"
      },
      "source": [
        "!sphinx-quickstart"
      ],
      "execution_count": null,
      "outputs": [
        {
          "output_type": "stream",
          "name": "stdout",
          "text": [
            "\u001b[01mWelcome to the Sphinx 1.8.5 quickstart utility.\u001b[39;49;00m\n",
            "\n",
            "Please enter values for the following settings (just press Enter to\n",
            "accept a default value, if one is given in brackets).\n",
            "\u001b[01m\n",
            "Selected root path: .\u001b[39;49;00m\n",
            "\n",
            "You have two options for placing the build directory for Sphinx output.\n",
            "Either, you use a directory \"_build\" within the root path, or you separate\n",
            "\"source\" and \"build\" directories within the root path.\n",
            "\u001b[35m> Separate source and build directories (y/n) [n]: \u001b[39;49;00my\n",
            "\n",
            "Inside the root directory, two more directories will be created; \"_templates\"\n",
            "for custom HTML templates and \"_static\" for custom stylesheets and other static\n",
            "files. You can enter another prefix (such as \".\") to replace the underscore.\n",
            "\u001b[35m> Name prefix for templates and static dir [_]: \u001b[39;49;00m\n",
            "\n",
            "The project name will occur in several places in the built documentation.\n",
            "\u001b[35m> Project name: \u001b[39;49;00mprcolab\n",
            "\u001b[35m> Author name(s): \u001b[39;49;00mpr\n",
            "\u001b[35m> Project release []: \u001b[39;49;00m\n",
            "\n",
            "If the documents are to be written in a language other than English,\n",
            "you can select a language here by its language code. Sphinx will then\n",
            "translate text that it generates into that language.\n",
            "\n",
            "For a list of supported codes, see\n",
            "http://sphinx-doc.org/config.html#confval-language.\n",
            "\u001b[35m> Project language [en]: \u001b[39;49;00mfr\n",
            "\n",
            "The file name suffix for source files. Commonly, this is either \".txt\"\n",
            "or \".rst\".  Only files with this suffix are considered documents.\n",
            "\u001b[35m> Source file suffix [.rst]: \u001b[39;49;00m\n",
            "\n",
            "One document is special in that it is considered the top node of the\n",
            "\"contents tree\", that is, it is the root of the hierarchical structure\n",
            "of the documents. Normally, this is \"index\", but if your \"index\"\n",
            "document is a custom template, you can also set this to another filename.\n",
            "\u001b[35m> Name of your master document (without suffix) [index]: \u001b[39;49;00m\n",
            "Indicate which of the following Sphinx extensions should be enabled:\n",
            "\u001b[35m> autodoc: automatically insert docstrings from modules (y/n) [n]: \u001b[39;49;00my\n",
            "\u001b[35m> doctest: automatically test code snippets in doctest blocks (y/n) [n]: \u001b[39;49;00my\n",
            ": \u001b[39;49;00my\n",
            "\u001b[35m> todo: write \"todo\" entries that can be shown or hidden on build (y/n) [n]: \u001b[39;49;00my\n",
            "\u001b[35m> coverage: checks for documentation coverage (y/n) [n]: \u001b[39;49;00mn\n",
            "\u001b[35m> imgmath: include math, rendered as PNG or SVG images (y/n) [n]: \u001b[39;49;00mn\n",
            "\u001b[35m> mathjax: include math, rendered in the browser by MathJax (y/n) [n]: \u001b[39;49;00my\n",
            "\u001b[A\n",
            "[n]: \u001b[39;49;00mn\n",
            "n) [n]: \u001b[39;49;00mn\n",
            "\n",
            "A Makefile and a Windows command file can be generated for you so that you\n",
            "only have to run e.g. `make html' instead of invoking sphinx-build\n",
            "directly.\n",
            "\u001b[35m> Create Makefile? (y/n) [y]: \u001b[39;49;00my\n",
            "\u001b[35m> Create Windows command file? (y/n) [y]: \u001b[39;49;00my\n",
            "\n",
            "Creating file ./source/conf.py.\n",
            "Creating file ./source/index.rst.\n",
            "File ./Makefile already exists, skipping.\n",
            "File ./make.bat already exists, skipping.\n",
            "\n",
            "\u001b[01mFinished: An initial directory structure has been created.\u001b[39;49;00m\n",
            "\n",
            "You should now populate your master file ./source/index.rst and create other documentation\n",
            "source files. Use the Makefile to build the docs, like so:\n",
            "   make builder\n",
            "where \"builder\" is one of the supported builders, e.g. html, latex or linkcheck.\n",
            "\n"
          ]
        }
      ]
    },
    {
      "cell_type": "markdown",
      "metadata": {
        "id": "ZLgkRVr2mXym"
      },
      "source": [
        "## Éditer `conf.py`"
      ]
    },
    {
      "cell_type": "markdown",
      "metadata": {
        "id": "mYvqbqrSmJFQ"
      },
      "source": [
        "Après cette étape, **éditez `source/conf.py`** (double clic pour l'ouvrir) comme vu dans les supports afin qu'il pointe vers l'emplacement du code, pour ajouter les extensions requises, le thème ... "
      ]
    },
    {
      "cell_type": "markdown",
      "metadata": {
        "id": "4mxmaaCORT0T"
      },
      "source": [
        "## Copier fichiers d'image à la bonne place"
      ]
    },
    {
      "cell_type": "code",
      "metadata": {
        "id": "EHPRh6y3LxEw"
      },
      "source": [
        "!cp -r fichiers_2021/images ."
      ],
      "execution_count": null,
      "outputs": []
    },
    {
      "cell_type": "markdown",
      "metadata": {
        "id": "5OFaI9qIRKiy"
      },
      "source": [
        "## Génération des sources Sphinx"
      ]
    },
    {
      "cell_type": "code",
      "metadata": {
        "colab": {
          "base_uri": "https://localhost:8080/"
        },
        "id": "pzAgk0nDKpiT",
        "outputId": "1ef2e060-8ebc-449e-8086-6448a22a4451"
      },
      "source": [
        "!sphinx-apidoc -f -o source /content/fichiers_2021"
      ],
      "execution_count": null,
      "outputs": [
        {
          "output_type": "stream",
          "name": "stdout",
          "text": [
            "Creating file source/chiffres_lettres.rst.\n",
            "Creating file source/overlaps.rst.\n",
            "Creating file source/showcase_restructured.rst.\n",
            "Creating file source/modules.rst.\n"
          ]
        }
      ]
    },
    {
      "cell_type": "markdown",
      "metadata": {
        "id": "kL2ExaLGRaNi"
      },
      "source": [
        "## Builder la documentation HTML"
      ]
    },
    {
      "cell_type": "code",
      "metadata": {
        "colab": {
          "base_uri": "https://localhost:8080/"
        },
        "id": "VIIw5D44L24_",
        "outputId": "d401eb5f-f1bf-458b-f4ca-9b8e35cd9261"
      },
      "source": [
        "!make html"
      ],
      "execution_count": null,
      "outputs": [
        {
          "output_type": "stream",
          "name": "stdout",
          "text": [
            "\u001b[01mRunning Sphinx v1.8.5\u001b[39;49;00m\n",
            "\u001b[01mloading translations [fr]... \u001b[39;49;00mdone\n",
            "making output directory...\n",
            "loading intersphinx inventory from https://docs.python.org/objects.inv...\n",
            "intersphinx inventory has moved: https://docs.python.org/objects.inv -> https://docs.python.org/3/objects.inv\n",
            "\u001b[01mbuilding [mo]: \u001b[39;49;00mtargets for 0 po files that are out of date\n",
            "\u001b[01mbuilding [html]\u001b[39;49;00m: targets for 5 source files that are out of date\n",
            "\u001b[01mupdating environment: \u001b[39;49;00m5 added, 0 changed, 0 removed\n",
            "\u001b[01mreading sources... \u001b[39;49;00m[100%] \u001b[35mshowcase_restructured\u001b[39;49;00m\n",
            "\u001b[01mlooking for now-outdated files... \u001b[39;49;00mnone found\n",
            "\u001b[01mpickling environment... \u001b[39;49;00mdone\n",
            "\u001b[01mchecking consistency... \u001b[39;49;00m\u001b[31;01m/content/source/modules.rst: WARNING: document isn't included in any toctree\u001b[39;49;00m\n",
            "done\n",
            "\u001b[01mpreparing documents... \u001b[39;49;00mdone\n",
            "\n",
            "\u001b[31;01m/content/source/showcase_restructured.rst:10: WARNING: Could not lex literal_block as \"python\". Highlighting skipped.\u001b[39;49;00m\n",
            "\u001b[01mgenerating indices...\u001b[39;49;00m genindex py-modindex\n",
            "\u001b[01mwriting additional pages...\u001b[39;49;00m search\n",
            "\u001b[01mcopying images... \u001b[39;49;00m[100%] \u001b[33m../images/python.png\u001b[39;49;00m\n",
            "\u001b[01mcopying static files... \u001b[39;49;00mdone\n",
            "\u001b[01mcopying extra files... \u001b[39;49;00mdone\n",
            "\u001b[01mdumping search index in French (code: fr) ... \u001b[39;49;00mdone\n",
            "\u001b[01mdumping object inventory... \u001b[39;49;00mdone\n",
            "\u001b[01mbuild succeeded, 2 warnings.\u001b[39;49;00m\n",
            "\n",
            "The HTML pages are in build/html.\n"
          ]
        }
      ]
    },
    {
      "cell_type": "markdown",
      "metadata": {
        "id": "R31j3T5xRgJs"
      },
      "source": [
        "# Télécharger"
      ]
    },
    {
      "cell_type": "markdown",
      "metadata": {
        "id": "__QjQjWP4srb"
      },
      "source": [
        "Après exécuter le code suivant pour zipper, vous pouvez télécharger avec double clic sur le zip."
      ]
    },
    {
      "cell_type": "code",
      "metadata": {
        "colab": {
          "base_uri": "https://localhost:8080/"
        },
        "id": "7ue6PDrIMrpi",
        "outputId": "97fc6c5d-2652-422f-83eb-36a9d3aa7486"
      },
      "source": [
        "# effacer vieux zip s'il est là\n",
        "! [[ -f build.zip ]] && rm build.zip\n",
        "\n",
        "# zipper\n",
        "!zip -r build.zip build/*"
      ],
      "execution_count": null,
      "outputs": [
        {
          "output_type": "stream",
          "name": "stdout",
          "text": [
            "  adding: build/doctrees/ (stored 0%)\n",
            "  adding: build/doctrees/modules.doctree (deflated 40%)\n",
            "  adding: build/doctrees/index.doctree (deflated 49%)\n",
            "  adding: build/doctrees/environment.pickle (deflated 79%)\n",
            "  adding: build/doctrees/showcase_restructured.doctree (deflated 68%)\n",
            "  adding: build/doctrees/chiffres_lettres.doctree (deflated 65%)\n",
            "  adding: build/doctrees/overlaps.doctree (deflated 57%)\n",
            "  adding: build/html/ (stored 0%)\n",
            "  adding: build/html/genindex.html (deflated 72%)\n",
            "  adding: build/html/_static/ (stored 0%)\n",
            "  adding: build/html/_static/doctools.js (deflated 64%)\n",
            "  adding: build/html/_static/comment-bright.png (stored 0%)\n",
            "  adding: build/html/_static/up.png (stored 0%)\n",
            "  adding: build/html/_static/translations.js (deflated 60%)\n",
            "  adding: build/html/_static/underscore-1.3.1.js (deflated 72%)\n",
            "  adding: build/html/_static/documentation_options.js (deflated 28%)\n",
            "  adding: build/html/_static/_stemmer.js (deflated 89%)\n",
            "  adding: build/html/_static/searchtools.js (deflated 68%)\n",
            "  adding: build/html/_static/custom.css (stored 0%)\n",
            "  adding: build/html/_static/minus.png (deflated 8%)\n",
            "  adding: build/html/_static/alabaster.css (deflated 76%)\n",
            "  adding: build/html/_static/down-pressed.png (stored 0%)\n",
            "  adding: build/html/_static/jquery.js (deflated 65%)\n",
            "  adding: build/html/_static/plus.png (deflated 7%)\n",
            "  adding: build/html/_static/basic.css (deflated 76%)\n",
            "  adding: build/html/_static/file.png (stored 0%)\n",
            "  adding: build/html/_static/jquery-3.2.1.js (deflated 70%)\n",
            "  adding: build/html/_static/ajax-loader.gif (deflated 18%)\n",
            "  adding: build/html/_static/comment.png (stored 0%)\n",
            "  adding: build/html/_static/up-pressed.png (stored 0%)\n",
            "  adding: build/html/_static/websupport.js (deflated 73%)\n",
            "  adding: build/html/_static/underscore.js (deflated 66%)\n",
            "  adding: build/html/_static/pygments.css (deflated 80%)\n",
            "  adding: build/html/_static/language_data.js (deflated 76%)\n",
            "  adding: build/html/_static/down.png (stored 0%)\n",
            "  adding: build/html/_static/comment-close.png (stored 0%)\n",
            "  adding: build/html/_images/ (stored 0%)\n",
            "  adding: build/html/_images/python.png (deflated 0%)\n",
            "  adding: build/html/showcase_restructured.html (deflated 79%)\n",
            "  adding: build/html/_sources/ (stored 0%)\n",
            "  adding: build/html/_sources/chiffres_lettres.rst.txt (deflated 38%)\n",
            "  adding: build/html/_sources/index.rst.txt (deflated 40%)\n",
            "  adding: build/html/_sources/modules.rst.txt (deflated 20%)\n",
            "  adding: build/html/_sources/showcase_restructured.rst.txt (deflated 42%)\n",
            "  adding: build/html/_sources/overlaps.rst.txt (deflated 33%)\n",
            "  adding: build/html/searchindex.js (deflated 58%)\n",
            "  adding: build/html/overlaps.html (deflated 67%)\n",
            "  adding: build/html/.buildinfo (deflated 25%)\n",
            "  adding: build/html/objects.inv (stored 0%)\n",
            "  adding: build/html/py-modindex.html (deflated 68%)\n",
            "  adding: build/html/chiffres_lettres.html (deflated 69%)\n",
            "  adding: build/html/index.html (deflated 65%)\n",
            "  adding: build/html/modules.html (deflated 72%)\n",
            "  adding: build/html/search.html (deflated 61%)\n"
          ]
        }
      ]
    },
    {
      "cell_type": "markdown",
      "metadata": {
        "id": "EnbXN_5fKzLX"
      },
      "source": [
        "Si vous voulez copier les sources « buildées » vers votre Drive pour les y stocker, vous pouvez faire comme suit en utilisant le path pertinent sur votre Drive"
      ]
    },
    {
      "cell_type": "code",
      "metadata": {
        "id": "Klxp5mJuMPMD"
      },
      "source": [
        "#!cp -r build '/content/drive/My Drive/_c/stra/cours/cours/ges/2021/cours_04_documentation/build_colab_2021'"
      ],
      "execution_count": null,
      "outputs": []
    },
    {
      "cell_type": "markdown",
      "metadata": {
        "id": "nvCmIiRJK-nz"
      },
      "source": [
        "Si vous avez besoin d'effacer les dossiers `source` et `build` vous pouvez faire comme suit:"
      ]
    },
    {
      "cell_type": "code",
      "metadata": {
        "id": "DWRJho_hnpRx"
      },
      "source": [
        "#!rm -rf source build"
      ],
      "execution_count": null,
      "outputs": []
    }
  ]
}